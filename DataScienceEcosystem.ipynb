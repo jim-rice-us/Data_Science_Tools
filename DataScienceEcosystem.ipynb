{
  "metadata": {
    "kernelspec": {
      "name": "python",
      "display_name": "Python (Pyodide)",
      "language": "python"
    },
    "language_info": {
      "codemirror_mode": {
        "name": "python",
        "version": 3
      },
      "file_extension": ".py",
      "mimetype": "text/x-python",
      "name": "python",
      "nbconvert_exporter": "python",
      "pygments_lexer": "ipython3",
      "version": "3.8"
    }
  },
  "nbformat_minor": 4,
  "nbformat": 4,
  "cells": [
    {
      "cell_type": "markdown",
      "source": "# Data Science Tools and Ecosystem",
      "metadata": {}
    },
    {
      "cell_type": "markdown",
      "source": "## In this notebook, Data Science Tools and Ecosystem are summarized.",
      "metadata": {}
    },
    {
      "cell_type": "markdown",
      "source": "**Objectives:**\n* Popular Languages that Data Scientists Use\n* Commonly Used Libraries\n* Data Science Tools\n* Examples of Evaluating Arithmetic Expressions",
      "metadata": {}
    },
    {
      "cell_type": "markdown",
      "source": "**Some of the popular languages that Data Scientists use are:**\n1. Python\n2. R\n3. Javascript\n4. Java",
      "metadata": {}
    },
    {
      "cell_type": "markdown",
      "source": "**Some of the commonly used libraries used by Data Scientists include:**\n1. Pandas\n2. NumPy\n3. Matplotlib\n4. Seaborn\n5. SciPy\n6. Scikit-learn",
      "metadata": {}
    },
    {
      "cell_type": "markdown",
      "source": "**Data Science Tools**\n    **as a markdown cell**\n| Data Science Tools |\n| -------------------|\n| MySQL |\n| PostgreSQL |\n| KubeFlow |\n\n",
      "metadata": {}
    },
    {
      "cell_type": "markdown",
      "source": "**Data Science Tools as an HTML cell**\n<table>\n    <tr>\n        <th><u>Data Science Tools</u></th>\n    </tr>\n    <tr>\n        <td>MySQL</td>\n    </tr>\n    <tr>\n        <td>PostgreSQL</td>\n    </tr>\n    <tr>\n        <td>KubeFlow</td>\n    </tr>\n</table>",
      "metadata": {}
    },
    {
      "cell_type": "markdown",
      "source": "### Below are a few examples of evaluating arithmetic expressions in Python",
      "metadata": {}
    },
    {
      "cell_type": "code",
      "source": "# This is a simple arithmetic expression to multiply then add integers\n\n(3*4)+5",
      "metadata": {
        "trusted": true
      },
      "outputs": [
        {
          "execution_count": 2,
          "output_type": "execute_result",
          "data": {
            "text/plain": "17"
          },
          "metadata": {}
        }
      ],
      "execution_count": 2
    },
    {
      "cell_type": "code",
      "source": "# This will convert 200 minutes to hours by dividing by 60\n\n200/60",
      "metadata": {
        "trusted": true
      },
      "outputs": [
        {
          "execution_count": 3,
          "output_type": "execute_result",
          "data": {
            "text/plain": "3.3333333333333335"
          },
          "metadata": {}
        }
      ],
      "execution_count": 3
    },
    {
      "cell_type": "markdown",
      "source": "## Author\n[Jim Rice](https://linkedin.com/in/jimrice)",
      "metadata": {}
    }
  ]
}